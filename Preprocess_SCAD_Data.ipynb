{
 "cells": [
  {
   "cell_type": "code",
   "execution_count": 1,
   "metadata": {},
   "outputs": [],
   "source": [
    "import sqlite3 #database\n",
    "import os #general\n",
    "import time #general\n",
    "#$ pip install tqdm\n",
    "from tqdm import tqdm #inline progress bar (quality of life)\n",
    "import csv\n",
    "#$ pip install numpy\n",
    "import numpy as np\n",
    "import math\n",
    "#$ pip install matplotlib\n",
    "from matplotlib import pyplot as plt\n",
    "#$ pip install pandas\n",
    "#import pandas #we ended up not needing this"
   ]
  },
  {
   "cell_type": "code",
   "execution_count": 2,
   "metadata": {},
   "outputs": [],
   "source": [
    "#returns all the rows of the databse as a triplit (filename, code, comment)\n",
    "def get_all_data(num_samples=10000):\n",
    "    #start timer\n",
    "    start = time.time()\n",
    "    \n",
    "    #connect to database\n",
    "    pwd = os.getcwd()\n",
    "    db_file = pwd+'/all_data.db'\n",
    "    conn = sqlite3.connect(db_file)\n",
    "    \n",
    "    #get all the rows from the databse\n",
    "    cur = conn.cursor()\n",
    "    cur.execute(\"SELECT * FROM all_data\")\n",
    "    #changed from fetchall to sepecific number in order to work on machine\n",
    "    #https://docs.python.org/3/library/sqlite3.html\n",
    "    rows = cur.fetchmany(size=num_samples)\n",
    "    #rows = cur.fetchall()\n",
    "    \n",
    "    #wrapp it up\n",
    "    conn.close()\n",
    "    end = time.time()\n",
    "    print(\"Completed in %d seconds\" % (end - start))\n",
    "    \n",
    "    return rows\n",
    "\n",
    "\n",
    "\n",
    "def show_hist(data,ma,mi):\n",
    "    bins = np.linspace(math.ceil(min(data)), \n",
    "                       math.floor(max(data)),\n",
    "                       ma-mi) # fixed number of bins\n",
    "\n",
    "    plt.xlim([min(data), max(data)])\n",
    "\n",
    "    plt.hist(data, bins=bins, alpha=0.5)\n",
    "    plt.title('Code Snippet length')\n",
    "    plt.xlabel('Number of Lines')\n",
    "    plt.ylabel('Number of Samples')\n",
    "\n",
    "    plt.show()\n",
    "    \n",
    "    \n",
    "def save_data(lang,code_sippets,comments,code_ma,text_ma):\n",
    "    print('saving data for langauge',lang,'...')\n",
    "    file_name = 'code-comment-'+str(lang)+'.csv'\n",
    "    with open(file_name, 'w', newline='') as file:\n",
    "        writer = csv.writer(file)\n",
    "        writer.writerow(['Code','Comment'])\n",
    "        for c in range(len(code_snippets)):\n",
    "            #raw\n",
    "            writer.writerow([code_snippets[c],comments[c]])\n",
    "            #clean\n",
    "            #writer.writerow([clean(code_snippets[c]),clean(comments[c])])\n",
    "\n",
    "#takes a dictionary and item for the purpose of counting number of items of that type\n",
    "def dic_count(dic, item):\n",
    "    if item in dic:\n",
    "        dic[item] = dic[item]+1\n",
    "    else:\n",
    "        dic[item] = 1\n",
    "    return dic\n",
    "    \n",
    "#returns the number of each extention in database\n",
    "def get_extention_stats(rows):\n",
    "    extention_count={}\n",
    "    for row in tqdm(rows):\n",
    "        filename = row[0]\n",
    "        extention = filename.split('.')[-1]\n",
    "        extention_count=dic_count(extention_count,extention)\n",
    "\n",
    "    print(extention_count)\n",
    "\n",
    "    \n",
    "def get_python_pairs(rows):\n",
    "    code_snippets = []\n",
    "    comments = []\n",
    "    too_big = 0\n",
    "    for row in tqdm(rows):\n",
    "        filename = row[0]\n",
    "        extention = filename.split('.')[-1]\n",
    "        if extention == 'py':\n",
    "            #limit the size\n",
    "            code_size = len(row[1])\n",
    "            comment_size = len(row[2])\n",
    "            if code_size<100 and code_size>10 and comment_size<100 and comment_size>10:\n",
    "                code_snippets.append(row[1])\n",
    "                comments.append(row[2])\n",
    "            else:\n",
    "                too_big+=1\n",
    "    print('Total pairs:',len(comments))\n",
    "    return code_snippets, comments\n",
    "\n",
    "\n",
    "    print(extention_count)\n",
    "    \n",
    "def get_code_pairs(rows, lang, max_code_chars, max_text_chars, max_lines, min_lines):\n",
    "    \n",
    "    #loop through code pairs\n",
    "    code_snippets = []\n",
    "    comments = []\n",
    "    data = []\n",
    "    \n",
    "    #for row in tqdm(rows[:100000]):\n",
    "    for row in tqdm(rows):\n",
    "        \n",
    "        #check code type\n",
    "        filename = row[0]\n",
    "        extention = filename.split('.')[-1]\n",
    "        if extention in lang:\n",
    "            \n",
    "            #limit the size\n",
    "            code_size    = len(row[1])\n",
    "            comment_size = len(row[2])\n",
    "            num_lines    = row[1].count('\\n')\n",
    "            \n",
    "            if code_size<max_code_chars and code_size>10:\n",
    "                if comment_size<max_text_chars and comment_size>10:\n",
    "                    if num_lines < max_lines and num_lines > min_lines:\n",
    "                        \n",
    "                        #why?\n",
    "                        if '\\0' not in row[1] and '\\0' not in row[2]:\n",
    "                            \n",
    "                            #to compare semantic cohesion between code and comment\n",
    "                            if False:\n",
    "                                overlap = code_comment_cohesion(row[1], row[2])\n",
    "                                common_len = len(overlap)\n",
    "                                if '' in overlap:\n",
    "                                    common_len-=1\n",
    "                                \n",
    "                                if common_len>=2:\n",
    "                                    code_snippets.append(row[1])\n",
    "                                    comments.append(row[2])\n",
    "                            #get all pairs\n",
    "                            else:\n",
    "                                code_snippets.append(row[1])\n",
    "                                comments.append(row[2])\n",
    "                                \n",
    "                            \n",
    "                            '''\n",
    "                            #to clean or not to clean\n",
    "                            if True: #raw\n",
    "                                code_snippets.append(row[1])\n",
    "                                comments.append(row[2])\n",
    "                            else: #cleaned\n",
    "                                code_snippets.append(clean(row[1]))\n",
    "                                comments.append(clean(row[2]))\n",
    "                            #code_snippets.append(row[1].replace('\\0',''))\n",
    "                            #comments.append(row[2].replace(,''))\n",
    "                            '''\n",
    "                            \n",
    "                            data.append(num_lines)\n",
    "\n",
    "    print('Total pairs:',len(comments))\n",
    "    #show_hist(data, max_lines, min_lines)\n",
    "    return code_snippets, comments\n"
   ]
  },
  {
   "cell_type": "code",
   "execution_count": 3,
   "metadata": {},
   "outputs": [],
   "source": [
    "import re\n",
    "def clean(text):\n",
    "    words = re.split(r'\\W+', text)\n",
    "    words = [word.lower() for word in words]\n",
    "    words = ' '.join(words)\n",
    "    words = words.replace('_',' ')\n",
    "    \n",
    "    \n",
    "    #save operators\n",
    "    #https://www.w3schools.com/python/python_operators.asp\n",
    "    if False:\n",
    "        ####\n",
    "        #Three (3) CHARS\n",
    "        ####\n",
    "        \n",
    "        #Assigment\n",
    "        words = words.replace('//=','FloorDivision')\n",
    "        words = words.replace('**=','FloorDivision')\n",
    "        \n",
    "        ####\n",
    "        #TWO (2) CHARS\n",
    "        ####\n",
    "        \n",
    "        #Python Comparison Operators\n",
    "        words = words.replace('>','equal')\n",
    "        words = words.replace('<','not equal')\n",
    "        words = words.replace('>','greater than')\n",
    "        words = words.replace('<','greater than or equal to')\n",
    "        \n",
    "        #### Arithmetic\n",
    "        words = words.replace('**','exponentiation')\n",
    "        words = words.replace('//','floor division')\n",
    "        \n",
    "        #### Python Bitwise Operators\n",
    "        words = words.replace('<<','Zero fill left shift')\n",
    "        words = words.replace('>>','Signed right shift')\n",
    "        \n",
    "        #### Assigment\n",
    "        words = words.replace('+=','addition equals')\n",
    "        words = words.replace('-=','subtraction equals')\n",
    "        words = words.replace('*=','multiplication equals')\n",
    "        words = words.replace('/=','division equals')\n",
    "        words = words.replace('%=','modulus equals')\n",
    "        words = words.replace('&=','and equals')\n",
    "        words = words.replace('|=','or equals')\n",
    "        words = words.replace('^=','xor equals')\n",
    "        \n",
    "        ####\n",
    "        #One (1) char\n",
    "        ####\n",
    "        \n",
    "        #?\n",
    "        words = words.replace('.','dot')\n",
    "        words = words.replace('_',' ')\n",
    "        \n",
    "        #Python Comparison Operators\n",
    "        words = words.replace('>','greater than')\n",
    "        words = words.replace('<','less than')\n",
    "        \n",
    "        #### Arithmetic\n",
    "        words = words.replace('+','addition')\n",
    "        words = words.replace('-','subtraction')\n",
    "        words = words.replace('*','multiplication')\n",
    "        words = words.replace('/','division')\n",
    "        words = words.replace('%','modulus')\n",
    "        \n",
    "        #### Python Bitwise Operators\n",
    "        words = words.replace('&','and')\n",
    "        words = words.replace('|','or')\n",
    "        words = words.replace('^','xor')\n",
    "        words = words.replace('~','not')\n",
    "        \n",
    "        #### Assigment\n",
    "        words = words.replace('=','equals')\n",
    "    \n",
    "    words = ''.join([i for i in words if i.isalpha() or i==' '])\n",
    "    words = re.sub(' +', ' ', words)\n",
    "    return words"
   ]
  },
  {
   "cell_type": "code",
   "execution_count": 3,
   "metadata": {},
   "outputs": [],
   "source": [
    "#grab data from .db"
   ]
  },
  {
   "cell_type": "code",
   "execution_count": 5,
   "metadata": {},
   "outputs": [
    {
     "name": "stdout",
     "output_type": "stream",
     "text": [
      "Completed in 3 seconds\n",
      "number of samples: 1000000\n"
     ]
    }
   ],
   "source": [
    "rows = get_all_data(num_samples=1000000)\n",
    "print('number of samples:',len(rows))"
   ]
  },
  {
   "cell_type": "code",
   "execution_count": null,
   "metadata": {},
   "outputs": [],
   "source": [
    "#make a list, and only keep ones with certain number of lines"
   ]
  },
  {
   "cell_type": "code",
   "execution_count": 6,
   "metadata": {},
   "outputs": [
    {
     "name": "stderr",
     "output_type": "stream",
     "text": [
      "100%|█████████████████████████████| 1000000/1000000 [00:03<00:00, 267107.02it/s]\n"
     ]
    }
   ],
   "source": [
    "#iterate through the rows and getting suitable information info\n",
    "data=[]\n",
    "max_lines = 20\n",
    "min_lines = 3\n",
    "\n",
    "#for row in rows[:100000]:\n",
    "for row in tqdm(rows):\n",
    "    filename = row[0]\n",
    "    code = row[1]\n",
    "    comment = row[2] \n",
    "    #print(code.count('\\n'))\n",
    "    if code.count('\\n')>min_lines and code.count('\\n')<max_lines+1:\n",
    "        data.append(code.count('\\n'))"
   ]
  },
  {
   "cell_type": "code",
   "execution_count": 7,
   "metadata": {},
   "outputs": [
    {
     "name": "stdout",
     "output_type": "stream",
     "text": [
      "Show # of line histogram of our preprocessed data\n"
     ]
    },
    {
     "data": {
      "image/png": "[encoded data removed]",
      "text/plain": [
       "<Figure size 432x288 with 1 Axes>"
      ]
     },
     "metadata": {
      "needs_background": "light"
     },
     "output_type": "display_data"
    }
   ],
   "source": [
    "print('Show # of line histogram of our preprocessed data')\n",
    "show_hist(data,max_lines,min_lines)"
   ]
  },
  {
   "cell_type": "code",
   "execution_count": null,
   "metadata": {},
   "outputs": [],
   "source": []
  },
  {
   "cell_type": "code",
   "execution_count": 8,
   "metadata": {},
   "outputs": [
    {
     "data": {
      "text/plain": [
       "('xolox-python-humanfriendly-03d1db4/humanfriendly/tests.py',\n",
       " '    def test_generate_message(self):\\n        \\n        text = \"Standard error generated by message()\"\\n        with CaptureOutput(merged=False) as capturer:\\n            message(text)\\n            self.assertEqual([], capturer.stdout.get_lines())\\n            self.assertIn(text, self.ignore_coverage_warning(capturer))\\n\\n',\n",
       " 'Test the :func:`humanfriendly.terminal.message()` function.')"
      ]
     },
     "execution_count": 8,
     "metadata": {},
     "output_type": "execute_result"
    }
   ],
   "source": [
    "row"
   ]
  },
  {
   "cell_type": "code",
   "execution_count": null,
   "metadata": {},
   "outputs": [],
   "source": [
    "# GET PAIRS"
   ]
  },
  {
   "cell_type": "code",
   "execution_count": 8,
   "metadata": {},
   "outputs": [
    {
     "name": "stderr",
     "output_type": "stream",
     "text": [
      "100%|█████████████████████████████| 1000000/1000000 [00:02<00:00, 382653.18it/s]"
     ]
    },
    {
     "name": "stdout",
     "output_type": "stream",
     "text": [
      "Total pairs: 73726\n"
     ]
    },
    {
     "name": "stderr",
     "output_type": "stream",
     "text": [
      "\n"
     ]
    }
   ],
   "source": [
    "max_code_chars = 100\n",
    "max_text_chars = 100\n",
    "lang=['py']\n",
    "code_snippets, comments = get_code_pairs(rows, lang, max_code_chars, max_text_chars, max_lines, min_lines)"
   ]
  },
  {
   "cell_type": "code",
   "execution_count": 12,
   "metadata": {},
   "outputs": [
    {
     "name": "stdout",
     "output_type": "stream",
     "text": [
      "    def run(self, func):\n",
      "        \n",
      "        with self:\n",
      "            return func()\n",
      "\n",
      "\n",
      "Run 'func' under os sandboxing\n"
     ]
    }
   ],
   "source": [
    "print(code_snippets[32])\n",
    "print(comments[32])"
   ]
  },
  {
   "cell_type": "code",
   "execution_count": 13,
   "metadata": {},
   "outputs": [
    {
     "name": "stdout",
     "output_type": "stream",
     "text": [
      "saving data for langauge py ...\n"
     ]
    }
   ],
   "source": [
    "save_data('py', code_snippets, comments,  max_code_chars, max_text_chars) #all"
   ]
  },
  {
   "cell_type": "code",
   "execution_count": 4,
   "metadata": {},
   "outputs": [],
   "source": [
    "import ast\n",
    "#import import_ipynb\n",
    "#import Extract_Python_Pairs as EPP\n",
    "#https://docs.python.org/3/library/tokenize.html\n",
    "import tokenize\n",
    "import io\n",
    "import numpy as np\n",
    "from tqdm import tqdm #inline progress bar (quality of life)\n",
    "import collections\n",
    "\n",
    "\n",
    "'''\n",
    "ENDMARKER = 0\n",
    "NAME = 1\n",
    "NUMBER = 2\n",
    "STRING = 3\n",
    "NEWLINE = 4\n",
    "INDENT = 5\n",
    "DEDENT = 6\n",
    "LPAR = 7\n",
    "RPAR = 8\n",
    "LSQB = 9\n",
    "RSQB = 10\n",
    "COLON = 11\n",
    "COMMA = 12\n",
    "SEMI = 13\n",
    "PLUS = 14\n",
    "MINUS = 15\n",
    "STAR = 16\n",
    "SLASH = 17\n",
    "VBAR = 18\n",
    "AMPER = 19\n",
    "LESS = 20\n",
    "GREATER = 21\n",
    "EQUAL = 22\n",
    "DOT = 23\n",
    "PERCENT = 24\n",
    "LBRACE = 25\n",
    "RBRACE = 26\n",
    "EQEQUAL = 27\n",
    "NOTEQUAL = 28\n",
    "LESSEQUAL = 29\n",
    "GREATEREQUAL = 30\n",
    "TILDE = 31\n",
    "CIRCUMFLEX = 32\n",
    "LEFTSHIFT = 33\n",
    "RIGHTSHIFT = 34\n",
    "DOUBLESTAR = 35\n",
    "PLUSEQUAL = 36\n",
    "MINEQUAL = 37\n",
    "STAREQUAL = 38\n",
    "SLASHEQUAL = 39\n",
    "PERCENTEQUAL = 40\n",
    "AMPEREQUAL = 41\n",
    "VBAREQUAL = 42\n",
    "CIRCUMFLEXEQUAL = 43\n",
    "LEFTSHIFTEQUAL = 44\n",
    "RIGHTSHIFTEQUAL = 45\n",
    "DOUBLESTAREQUAL = 46\n",
    "DOUBLESLASH = 47\n",
    "DOUBLESLASHEQUAL = 48\n",
    "AT = 49\n",
    "ATEQUAL = 50\n",
    "RARROW = 51\n",
    "ELLIPSIS = 52\n",
    "COLONEQUAL = 53\n",
    "OP = 54\n",
    "AWAIT = 55\n",
    "ASYNC = 56\n",
    "TYPE_IGNORE = 57\n",
    "TYPE_COMMENT = 58\n",
    "# These aren't used by the C tokenizer but are needed for tokenize.py\n",
    "ERRORTOKEN = 59\n",
    "COMMENT = 60\n",
    "NL = 61\n",
    "ENCODING = 62\n",
    "N_TOKENS = 63\n",
    "# Special definitions for cooperation with parser\n",
    "NT_OFFSET = 256\n",
    "'''\n",
    "\n",
    "\n",
    "key_words = ['False','await','else','import','pass',\n",
    "            'None','break','except','in','raise',\n",
    "            'True','class','finally','is','return',\n",
    "            'and','continue','for','lambda','try',\n",
    "            'as','def','from','nonlocal','while',\n",
    "            'assert','del','global','not','with',\n",
    "            'async','elif','if','or','yield']\n",
    "\n",
    "#https://docs.python.org/3/library/tokenize.html\n",
    "def get_vars(code_snippet):\n",
    "    tokens = tokenize.tokenize(io.BytesIO(code_snippet.encode('utf-8')).readline)\n",
    "    \n",
    "    #for keeping track of variables\n",
    "    variables = []\n",
    "    try: #for issues with tokenizing\n",
    "        for token in tokens:\n",
    "\n",
    "            if token.type not in [0,57,58,59,60,61,62,63,256]:\n",
    "\n",
    "\n",
    "\n",
    "                #keyword or variable\n",
    "                if token.type == 1:\n",
    "                    variables.append(token.string)\n",
    "                    #avoidkey word\n",
    "                    #if token.string not in key_words:\n",
    "                    #    variables.append(token.string)\n",
    "\n",
    "                #string\n",
    "                elif token.type == 3:\n",
    "                    variables.append(token.string)\n",
    "\n",
    "        return variables\n",
    "    \n",
    "    except:\n",
    "        return []\n",
    "import re\n",
    "def clean_comment(text):\n",
    "    words = re.split(r'\\W+', text)\n",
    "    words = [word.lower() for word in words]\n",
    "    words = ' '.join(words)\n",
    "    words = ''.join([i for i in words if i.isalpha() or i==' '])\n",
    "    words = re.sub(' +', ' ', words)\n",
    "    \n",
    "    return words\n",
    "\n",
    "def clean_vars(var_list):\n",
    "    clean_var_list =  ' '.join(var_list)\n",
    "    clean_var_list =  clean_var_list.replace('_',' ')\n",
    "    clean_var_list = clean_var_list.split(' ')\n",
    "    return clean_var_list\n",
    "\n",
    "# Python program to illustrate the intersection\n",
    "# of two lists using set() method\n",
    "def intersection(lst1, lst2):\n",
    "    return list(set(lst1) & set(lst2))\n",
    "\n",
    "def code_comment_cohesion(code, comment):\n",
    "    code_vars = get_vars(code)\n",
    "    clean_var_list = clean_vars(code_vars)\n",
    "    words = clean_comment(comment).split(' ')\n",
    "    shared_words = intersection(words, clean_var_list)\n",
    "    return shared_words"
   ]
  },
  {
   "cell_type": "code",
   "execution_count": 15,
   "metadata": {
    "scrolled": false
   },
   "outputs": [
    {
     "name": "stdout",
     "output_type": "stream",
     "text": [
      "20\n"
     ]
    },
    {
     "name": "stderr",
     "output_type": "stream",
     "text": [
      "100%|█████████████████████████████████████████| 20/20 [00:00<00:00, 2073.10it/s]"
     ]
    },
    {
     "name": "stdout",
     "output_type": "stream",
     "text": [
      "##############################\n",
      "    def current_search_path(self):\n",
      "        \n",
      "        return os.environ.get('PATH', os.defpath)\n",
      "\n",
      "\n",
      "\n",
      "The value of ``$PATH`` or :data:`os.defpath` (a string).\n",
      "['defpath', 'path', 'os']\n",
      "##############################\n",
      "    def current_style(self):\n",
      "        \n",
      "        return self.stack[-1] if self.stack else {}\n",
      "\n",
      "\n",
      "Get the current style from the top of the stack (a dictionary).\n",
      "['stack', 'style', 'current']\n",
      "##############################\n",
      "    def run_cli_raise_other(self):\n",
      "        \n",
      "        raise ValueError()\n",
      "\n",
      "\n",
      "run_cli() sample that raises an exception.\n",
      "['cli', 'run']\n",
      "##############################\n",
      "    def rounded(self):\n",
      "        \n",
      "        return format_timespan(round(self.elapsed_time))\n",
      "\n",
      "\n",
      "Human readable timespan rounded to seconds (a string).\n",
      "['timespan', 'rounded']\n",
      "##############################\n",
      "    def __str__(self):\n",
      "        \n",
      "        return format_timespan(self.elapsed_time)\n",
      "\n",
      "\n",
      "\n",
      "Show the elapsed time since the :class:`Timer` was created.\n",
      "['', 'elapsed', 'time']\n",
      "##############################\n",
      "def print_formatted_number(value):\n",
      "    \n",
      "    output(format_number(float(value)))\n",
      "\n",
      "\n",
      "\n",
      "Print large numbers in a human readable format.\n",
      "['print', 'format']\n",
      "##############################\n",
      "def print_formatted_size(value, binary):\n",
      "    \n",
      "    output(format_size(int(value), binary=binary))\n",
      "\n",
      "\n",
      "\n",
      "Print a human readable size.\n",
      "['print', 'size']\n",
      "##############################\n",
      "def print_formatted_timespan(value):\n",
      "    \n",
      "    output(format_timespan(float(value)))\n",
      "\n",
      "\n",
      "\n",
      "Print a human readable timespan.\n",
      "['print', 'timespan']\n",
      "##############################\n",
      "def print_parsed_length(value):\n",
      "    \n",
      "    output(parse_length(value))\n",
      "\n",
      "\n",
      "\n",
      "Parse a human readable length and print the number of metres.\n",
      "['print', 'length', 'parse']\n",
      "##############################\n",
      "def print_parsed_size(value):\n",
      "    \n",
      "    output(parse_size(value))\n",
      "\n",
      "\n",
      "\n",
      "Parse a human readable data size and print the number of bytes.\n",
      "['print', 'parse', 'size']\n",
      "##############################\n",
      "def get_url(path, scheme=\"http\"):\n",
      "    \n",
      "    return scheme + \"://www.infoq.com\" + path\n",
      "\n",
      "\n",
      "Return the full InfoQ URL\n",
      "['return', 'url']\n",
      "number valid 11\n",
      "percent valid: 0.55\n"
     ]
    },
    {
     "name": "stderr",
     "output_type": "stream",
     "text": [
      "\n"
     ]
    }
   ],
   "source": [
    "num_samples = 20#len(code_snippets)\n",
    "print(num_samples)\n",
    "show=True\n",
    "required_overlap=2\n",
    "\n",
    "valid_counter=0\n",
    "for i in tqdm(range(num_samples)):\n",
    "    pass\n",
    "    code_vars = get_vars(code_snippets[i])\n",
    "    clean_var_list = clean_vars(code_vars)\n",
    "    words = clean(comments[i]).split(' ')\n",
    "    \n",
    "    #show all pairs\n",
    "    #print('-----'*8)\n",
    "    #print(words)\n",
    "    #print(clean_var_list)\n",
    "    #print(intersection(words, clean_var_list))\n",
    "    common = intersection(words, clean_var_list)\n",
    "    common_len = len(common)\n",
    "    if '' in common:\n",
    "        common_len-=1\n",
    "    if common_len>=required_overlap:\n",
    "        valid_counter+=1\n",
    "        if show:\n",
    "            #show pairs that are valid\n",
    "            print('##########'*3)\n",
    "            print(code_snippets[i])\n",
    "            print(comments[i])\n",
    "            print(common)\n",
    "print('number valid',valid_counter)\n",
    "print('percent valid:',valid_counter/num_samples)"
   ]
  },
  {
   "cell_type": "markdown",
   "metadata": {},
   "source": [
    "| # shared vocab | # valid pairs | % of original |\n",
    "| --- | --- | --- |\n",
    "| 1 | 53,248 | 72.22 |\n",
    "| 2 | 29,234 | 39.65 |\n",
    "| 3 | 11,122 | 15.09 |\n",
    "| 4 | 2,979 | 4.04 |\n",
    "| 5 | 705 | 0.95 |\n",
    "\n",
    "original dataset consists of 73726 comment pairs"
   ]
  },
  {
   "cell_type": "code",
   "execution_count": 4,
   "metadata": {},
   "outputs": [
    {
     "name": "stdout",
     "output_type": "stream",
     "text": [
      "Completed in 2 seconds\n",
      "number of samples: 1000000\n"
     ]
    },
    {
     "name": "stderr",
     "output_type": "stream",
     "text": [
      "100%|█████████████████████████████| 1000000/1000000 [00:02<00:00, 385760.78it/s]\n"
     ]
    },
    {
     "name": "stdout",
     "output_type": "stream",
     "text": [
      "Show # of line histogram of our preprocessed data\n"
     ]
    },
    {
     "data": {
      "image/png": "[encoded data removed]",
      "text/plain": [
       "<Figure size 432x288 with 1 Axes>"
      ]
     },
     "metadata": {
      "needs_background": "light"
     },
     "output_type": "display_data"
    },
    {
     "name": "stderr",
     "output_type": "stream",
     "text": [
      "100%|████████████████████████████| 1000000/1000000 [00:00<00:00, 1359977.54it/s]"
     ]
    },
    {
     "name": "stdout",
     "output_type": "stream",
     "text": [
      "Total pairs: 1654\n",
      "saving data for langauge py ...\n"
     ]
    },
    {
     "name": "stderr",
     "output_type": "stream",
     "text": [
      "\n"
     ]
    },
    {
     "data": {
      "text/plain": [
       "\"\\n#individual languages\\nfor lang in [Python,CPP,JAVA]:\\n    code_snippets, comments = get_code_pairs(rows, lang, max_code_chars, max_text_chars, max_lines, min_lines)\\n    save_data('short_'+lang[0], code_snippets, comments,  max_code_chars, max_text_chars)\\n\\n    \\n#multiple languagse\\ncode_snippets, comments = get_code_pairs(rows, multi, max_code_chars, max_text_chars, max_lines, min_lines)\\nsave_data('short_all', code_snippets, comments,  max_code_chars, max_text_chars) #all\\n\""
      ]
     },
     "execution_count": 4,
     "metadata": {},
     "output_type": "execute_result"
    }
   ],
   "source": [
    "51892#short 0-5\n",
    "\n",
    "\n",
    "rows = get_all_data(num_samples=1000000)\n",
    "print('number of samples:',len(rows))\n",
    "\n",
    "\n",
    "\n",
    "#iterate through the rows and getting suitable information info\n",
    "data=[]\n",
    "max_lines = 2\n",
    "min_lines = 0\n",
    "\n",
    "#for row in rows[:100000]:\n",
    "for row in tqdm(rows):\n",
    "    filename = row[0]\n",
    "    code = row[1]\n",
    "    comment = row[2] \n",
    "    #print(code.count('\\n'))\n",
    "    if code.count('\\n')>min_lines and code.count('\\n')<max_lines+1:\n",
    "        data.append(code.count('\\n'))\n",
    "        \n",
    "\n",
    "print('Show # of line histogram of our preprocessed data')\n",
    "show_hist(data,max_lines,min_lines)\n",
    "\n",
    "\n",
    "Python = ['py']\n",
    "CPP    = ['cpp','h']\n",
    "JAVA   = ['java']\n",
    "multi  = Python # + CPP + JAVA\n",
    "\n",
    "max_code_chars = 100\n",
    "max_text_chars = 100\n",
    "\n",
    "#just python\n",
    "code_snippets, comments = get_code_pairs(rows, multi, max_code_chars, max_text_chars, max_lines, min_lines)\n",
    "save_data('py', code_snippets, comments,  max_code_chars, max_text_chars) #all\n",
    "\n",
    "'''\n",
    "#individual languages\n",
    "for lang in [Python,CPP,JAVA]:\n",
    "    code_snippets, comments = get_code_pairs(rows, lang, max_code_chars, max_text_chars, max_lines, min_lines)\n",
    "    save_data('short_'+lang[0], code_snippets, comments,  max_code_chars, max_text_chars)\n",
    "\n",
    "    \n",
    "#multiple languagse\n",
    "code_snippets, comments = get_code_pairs(rows, multi, max_code_chars, max_text_chars, max_lines, min_lines)\n",
    "save_data('short_all', code_snippets, comments,  max_code_chars, max_text_chars) #all\n",
    "'''"
   ]
  },
  {
   "cell_type": "code",
   "execution_count": 3,
   "metadata": {},
   "outputs": [
    {
     "name": "stdout",
     "output_type": "stream",
     "text": [
      "Completed in 0 seconds\n",
      "number of samples: 10000\n"
     ]
    },
    {
     "name": "stderr",
     "output_type": "stream",
     "text": [
      "100%|█████████████████████████████████| 10000/10000 [00:00<00:00, 357010.66it/s]"
     ]
    },
    {
     "name": "stdout",
     "output_type": "stream",
     "text": [
      "Show # of line histogram of our preprocessed data\n"
     ]
    },
    {
     "name": "stderr",
     "output_type": "stream",
     "text": [
      "\n"
     ]
    },
    {
     "data": {
      "image/png": "[encoded data removed]",
      "text/plain": [
       "<Figure size 432x288 with 1 Axes>"
      ]
     },
     "metadata": {
      "needs_background": "light"
     },
     "output_type": "display_data"
    },
    {
     "name": "stderr",
     "output_type": "stream",
     "text": [
      "100%|████████████████████████████████| 10000/10000 [00:00<00:00, 1240404.57it/s]\n"
     ]
    },
    {
     "name": "stdout",
     "output_type": "stream",
     "text": [
      "Total pairs: 449\n",
      "saving data for langauge medium_py ...\n"
     ]
    },
    {
     "name": "stderr",
     "output_type": "stream",
     "text": [
      "100%|████████████████████████████████| 10000/10000 [00:00<00:00, 1043047.85it/s]\n"
     ]
    },
    {
     "name": "stdout",
     "output_type": "stream",
     "text": [
      "Total pairs: 523\n",
      "saving data for langauge medium_cpp ...\n"
     ]
    },
    {
     "name": "stderr",
     "output_type": "stream",
     "text": [
      "100%|█████████████████████████████████| 10000/10000 [00:00<00:00, 721327.67it/s]\n"
     ]
    },
    {
     "name": "stdout",
     "output_type": "stream",
     "text": [
      "Total pairs: 729\n",
      "saving data for langauge medium_java ...\n"
     ]
    },
    {
     "name": "stderr",
     "output_type": "stream",
     "text": [
      "100%|█████████████████████████████████| 10000/10000 [00:00<00:00, 527751.37it/s]"
     ]
    },
    {
     "name": "stdout",
     "output_type": "stream",
     "text": [
      "Total pairs: 1701\n",
      "saving data for langauge medium_all ...\n"
     ]
    },
    {
     "name": "stderr",
     "output_type": "stream",
     "text": [
      "\n"
     ]
    }
   ],
   "source": [
    "#med 3-10\n",
    "\n",
    "rows = get_all_data(num_samples=10000)\n",
    "print('number of samples:',len(rows))\n",
    "\n",
    "\n",
    "\n",
    "#iterate through the rows and getting suitable information info\n",
    "data=[]\n",
    "max_lines = 10\n",
    "min_lines = 3\n",
    "\n",
    "#for row in rows[:100000]:\n",
    "for row in tqdm(rows):\n",
    "    filename = row[0]\n",
    "    code = row[1]\n",
    "    comment = row[2] \n",
    "    #print(code.count('\\n'))\n",
    "    if code.count('\\n')>min_lines and code.count('\\n')<max_lines+1:\n",
    "        data.append(code.count('\\n'))\n",
    "        \n",
    "\n",
    "print('Show # of line histogram of our preprocessed data')\n",
    "show_hist(data,max_lines,min_lines)\n",
    "\n",
    "\n",
    "Python = ['py']\n",
    "CPP    = ['cpp','h']\n",
    "JAVA   = ['java']\n",
    "multi  = Python + CPP + JAVA\n",
    "\n",
    "max_code_chars = 500\n",
    "max_text_chars = 250\n",
    "\n",
    "#just python\n",
    "#code_snippets, comments = get_code_pairs(rows, multi, max_code_chars, max_text_chars, max_lines, min_lines)\n",
    "#save_data('py', code_snippets, comments,  max_code_chars, max_text_chars) #all\n",
    "\n",
    "#'''\n",
    "#individual languages\n",
    "for lang in [Python,CPP,JAVA]:\n",
    "    code_snippets, comments = get_code_pairs(rows, lang, max_code_chars, max_text_chars, max_lines, min_lines)\n",
    "    save_data('medium_'+lang[0], code_snippets, comments,  max_code_chars, max_text_chars)\n",
    "\n",
    "    \n",
    "#multiple languagse\n",
    "code_snippets, comments = get_code_pairs(rows, multi, max_code_chars, max_text_chars, max_lines, min_lines)\n",
    "save_data('medium_all', code_snippets, comments,  max_code_chars, max_text_chars) #all\n",
    "#'''"
   ]
  },
  {
   "cell_type": "code",
   "execution_count": 3,
   "metadata": {},
   "outputs": [
    {
     "name": "stderr",
     "output_type": "stream",
     "text": [
      "  0%|          | 24073/16115540 [00:00<01:06, 240723.34it/s]"
     ]
    },
    {
     "name": "stdout",
     "output_type": "stream",
     "text": [
      "Completed in 167 seconds\n",
      "number of samples: 16115540\n"
     ]
    },
    {
     "name": "stderr",
     "output_type": "stream",
     "text": [
      "100%|██████████| 16115540/16115540 [01:15<00:00, 212733.53it/s]\n"
     ]
    },
    {
     "name": "stdout",
     "output_type": "stream",
     "text": [
      "Show # of line histogram of our preprocessed data\n"
     ]
    },
    {
     "data": {
      "image/png": "[encoded data removed]",
      "text/plain": [
       "<Figure size 432x288 with 1 Axes>"
      ]
     },
     "metadata": {
      "needs_background": "light"
     },
     "output_type": "display_data"
    },
    {
     "name": "stderr",
     "output_type": "stream",
     "text": [
      "100%|██████████| 16115540/16115540 [00:22<00:00, 719013.15it/s]\n"
     ]
    },
    {
     "name": "stdout",
     "output_type": "stream",
     "text": [
      "Total pairs: 798480\n",
      "saving data for langauge py ...\n"
     ]
    },
    {
     "data": {
      "text/plain": [
       "\"\\n#individual languages\\nfor lang in [Python,CPP,JAVA]:\\n    code_snippets, comments = get_code_pairs(rows, lang, max_code_chars, max_text_chars, max_lines, min_lines)\\n    save_data('long_'+lang[0], code_snippets, comments,  max_code_chars, max_text_chars)\\n\\n    \\n#multiple languagse\\ncode_snippets, comments = get_code_pairs(rows, multi, max_code_chars, max_text_chars, max_lines, min_lines)\\nsave_data('long_all', code_snippets, comments,  max_code_chars, max_text_chars) #all\\n\""
      ]
     },
     "execution_count": 3,
     "metadata": {},
     "output_type": "execute_result"
    }
   ],
   "source": [
    "#long 10-20\n",
    "\n",
    "rows = get_all_data()\n",
    "print('number of samples:',len(rows))\n",
    "\n",
    "\n",
    "\n",
    "#iterate through the rows and getting suitable information info\n",
    "data=[]\n",
    "max_lines = 20\n",
    "min_lines = 10\n",
    "\n",
    "#for row in rows[:100000]:\n",
    "for row in tqdm(rows):\n",
    "    filename = row[0]\n",
    "    code = row[1]\n",
    "    comment = row[2] \n",
    "    #print(code.count('\\n'))\n",
    "    if code.count('\\n')>min_lines and code.count('\\n')<max_lines+1:\n",
    "        data.append(code.count('\\n'))\n",
    "        \n",
    "\n",
    "print('Show # of line histogram of our preprocessed data')\n",
    "show_hist(data,max_lines,min_lines)\n",
    "\n",
    "\n",
    "Python = ['py']\n",
    "CPP    = ['cpp','h']\n",
    "JAVA   = ['java']\n",
    "multi  = Python + CPP + JAVA\n",
    "\n",
    "max_code_chars = 500\n",
    "max_text_chars = 250\n",
    "\n",
    "#just python\n",
    "code_snippets, comments = get_code_pairs(rows, multi, max_code_chars, max_text_chars, max_lines, min_lines)\n",
    "save_data('py', code_snippets, comments,  max_code_chars, max_text_chars) #all\n",
    "\n",
    "'''\n",
    "#individual languages\n",
    "for lang in [Python,CPP,JAVA]:\n",
    "    code_snippets, comments = get_code_pairs(rows, lang, max_code_chars, max_text_chars, max_lines, min_lines)\n",
    "    save_data('long_'+lang[0], code_snippets, comments,  max_code_chars, max_text_chars)\n",
    "\n",
    "    \n",
    "#multiple languagse\n",
    "code_snippets, comments = get_code_pairs(rows, multi, max_code_chars, max_text_chars, max_lines, min_lines)\n",
    "save_data('long_all', code_snippets, comments,  max_code_chars, max_text_chars) #all\n",
    "'''"
   ]
  },
  {
   "cell_type": "code",
   "execution_count": 17,
   "metadata": {},
   "outputs": [
    {
     "data": {
      "text/plain": [
       "\"\\ntypes=[]\\nfor row in tqdm(rows[:1000000]):\\n    types.append(row[0].split('.')[-1])\\nfor t in set(types):\\n    print(t,types.count(t))\\n    \\n\""
      ]
     },
     "execution_count": 17,
     "metadata": {},
     "output_type": "execute_result"
    }
   ],
   "source": [
    "#get all extention types\n",
    "'''\n",
    "types=[]\n",
    "for row in tqdm(rows[:1000000]):\n",
    "    types.append(row[0].split('.')[-1])\n",
    "for t in set(types):\n",
    "    print(t,types.count(t))\n",
    "    \n",
    "'''\n",
    "\n",
    "#example of how ot iterate through the rows and getting info\n",
    "'''\n",
    "for row in rows[:100]:\n",
    "    filename = row[0]\n",
    "    code = row[1]\n",
    "    comment = row[2]  \n",
    "'''"
   ]
  }
 ],
 "metadata": {
  "kernelspec": {
   "display_name": "Python 3 (ipykernel)",
   "language": "python",
   "name": "python3"
  },
  "language_info": {
   "codemirror_mode": {
    "name": "ipython",
    "version": 3
   },
   "file_extension": ".py",
   "mimetype": "text/x-python",
   "name": "python",
   "nbconvert_exporter": "python",
   "pygments_lexer": "ipython3",
   "version": "3.8.10"
  }
 },
 "nbformat": 4,
 "nbformat_minor": 4
}
