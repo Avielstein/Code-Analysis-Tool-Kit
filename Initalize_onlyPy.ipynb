{
 "cells": [
  {
   "cell_type": "code",
   "execution_count": 1,
   "id": "db17e4a4",
   "metadata": {},
   "outputs": [],
   "source": [
    "'''\n",
    "Converts the data distribution to a single db, with the option to delete\n",
    "individual files from the data directory in order to save disk space.\n",
    "'''\n",
    "import json\n",
    "import os\n",
    "import sqlite3\n",
    "import time\n",
    "from tqdm import tqdm"
   ]
  },
  {
   "cell_type": "code",
   "execution_count": 2,
   "id": "1b401793",
   "metadata": {},
   "outputs": [],
   "source": [
    "DELETE = False\n",
    "DATA_DIR = './data/'\n",
    "\n",
    "# Database operations to start up the sqlite database\n",
    "conn = sqlite3.connect('all_data.db')\n",
    "c = conn.cursor()\n",
    "c.execute('''CREATE TABLE all_data (filename text, code text, comment text)''')\n",
    "\n",
    "# Deduplicate any code/comment pairs\n",
    "dedupe_set = set()\n"
   ]
  },
  {
   "cell_type": "code",
   "execution_count": 3,
   "id": "6e3fe940",
   "metadata": {},
   "outputs": [
    {
     "name": "stdout",
     "output_type": "stream",
     "text": [
      "walking the projects...\n"
     ]
    },
    {
     "name": "stderr",
     "output_type": "stream",
     "text": [
      "33249it [46:59, 18.33it/s]IOPub message rate exceeded.\n",
      "The notebook server will temporarily stop sending output\n",
      "to the client in order to avoid crashing it.\n",
      "To change this limit, set the config variable\n",
      "`--NotebookApp.iopub_msg_rate_limit`.\n",
      "\n",
      "Current values:\n",
      "NotebookApp.iopub_msg_rate_limit=1000.0 (msgs/sec)\n",
      "NotebookApp.rate_limit_window=3.0 (secs)\n",
      "\n",
      "88127it [2:25:26,  6.69it/s]IOPub message rate exceeded.\n",
      "The notebook server will temporarily stop sending output\n",
      "to the client in order to avoid crashing it.\n",
      "To change this limit, set the config variable\n",
      "`--NotebookApp.iopub_msg_rate_limit`.\n",
      "\n",
      "Current values:\n",
      "NotebookApp.iopub_msg_rate_limit=1000.0 (msgs/sec)\n",
      "NotebookApp.rate_limit_window=3.0 (secs)\n",
      "\n",
      "138411it [4:02:29, 21.02it/s]IOPub message rate exceeded.\n",
      "The notebook server will temporarily stop sending output\n",
      "to the client in order to avoid crashing it.\n",
      "To change this limit, set the config variable\n",
      "`--NotebookApp.iopub_msg_rate_limit`.\n",
      "\n",
      "Current values:\n",
      "NotebookApp.iopub_msg_rate_limit=1000.0 (msgs/sec)\n",
      "NotebookApp.rate_limit_window=3.0 (secs)\n",
      "\n",
      "170479it [5:24:50, 10.64it/s]IOPub message rate exceeded.\n",
      "The notebook server will temporarily stop sending output\n",
      "to the client in order to avoid crashing it.\n",
      "To change this limit, set the config variable\n",
      "`--NotebookApp.iopub_msg_rate_limit`.\n",
      "\n",
      "Current values:\n",
      "NotebookApp.iopub_msg_rate_limit=1000.0 (msgs/sec)\n",
      "NotebookApp.rate_limit_window=3.0 (secs)\n",
      "\n",
      "212609it [6:33:28,  9.01it/s]\n"
     ]
    }
   ],
   "source": [
    "# walk through the data directory\n",
    "print(\"walking the projects...\")\n",
    "for (dirpath, dirnames, filenames) in tqdm(os.walk(DATA_DIR)):\n",
    "    for filename in filenames:\n",
    "\n",
    "        # whenever you get to one of the project's code/comment data files\n",
    "        if filename.endswith('.json'):\n",
    "\n",
    "            # open up the file, load the json, close the file.\n",
    "            fo = open(os.path.join(dirpath, filename), 'rb')\n",
    "            d = json.load(fo)\n",
    "            fo.close()\n",
    "\n",
    "            # get a list of [code,comment,filename] triplets from the json\n",
    "            filename_code_comment_triplets = d['contents']\n",
    "            # add them to the output file\n",
    "            for triplet in filename_code_comment_triplets:\n",
    "                #AJS93\n",
    "                filetype = triplet[0].split('.')[-1]\n",
    "                if filetype =='py':\n",
    "                    code = triplet[1]\n",
    "                    comment = triplet[2]\n",
    "                    # sometimes doxygen fails to extract the code or a comment,\n",
    "                    # don't store these pairs in the database\n",
    "                    if code == '' or comment == '':\n",
    "                        continue\n",
    "                    # sometimes developers copy code/comments exactly from other\n",
    "                    # code. This results in duplication, which we avoid here\n",
    "                    codecomment_pair = hash(code + comment)\n",
    "                    if codecomment_pair in dedupe_set:\n",
    "                        continue\n",
    "                    # otherwise store the data\n",
    "                    dedupe_set.add(codecomment_pair)\n",
    "                    c.execute(\"INSERT INTO all_data VALUES (?,?,?)\", triplet)\n",
    "\n",
    "            conn.commit()\n",
    "            \n",
    "# Delete the json file from original project's derivatives folder.\n",
    "# Choosing to enable this option helps reduce the disk space\n",
    "# consumed by working with this dataset.\n",
    "if DELETE == True:\n",
    "    print(\"Deleting raw files from data directory...\")\n",
    "    os.system('find ' + DATA_DIR + ' -name \"*.json\" -type f -delete')\n",
    "    \n",
    "conn.close()"
   ]
  }
 ],
 "metadata": {
  "kernelspec": {
   "display_name": "Python 3 (ipykernel)",
   "language": "python",
   "name": "python3"
  },
  "language_info": {
   "codemirror_mode": {
    "name": "ipython",
    "version": 3
   },
   "file_extension": ".py",
   "mimetype": "text/x-python",
   "name": "python",
   "nbconvert_exporter": "python",
   "pygments_lexer": "ipython3",
   "version": "3.8.10"
  }
 },
 "nbformat": 4,
 "nbformat_minor": 5
}
